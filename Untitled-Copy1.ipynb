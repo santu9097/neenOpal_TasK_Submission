{
 "cells": [
  {
   "cell_type": "code",
   "execution_count": 1,
   "id": "21bfc8f3",
   "metadata": {},
   "outputs": [],
   "source": [
    "import pandas as pd\n"
   ]
  },
  {
   "cell_type": "code",
   "execution_count": 4,
   "id": "2d310caa",
   "metadata": {},
   "outputs": [],
   "source": [
    "df1=pd.read_csv('Data1.csv')"
   ]
  },
  {
   "cell_type": "code",
   "execution_count": 5,
   "id": "184beb5f",
   "metadata": {},
   "outputs": [
    {
     "data": {
      "text/html": [
       "<div>\n",
       "<style scoped>\n",
       "    .dataframe tbody tr th:only-of-type {\n",
       "        vertical-align: middle;\n",
       "    }\n",
       "\n",
       "    .dataframe tbody tr th {\n",
       "        vertical-align: top;\n",
       "    }\n",
       "\n",
       "    .dataframe thead th {\n",
       "        text-align: right;\n",
       "    }\n",
       "</style>\n",
       "<table border=\"1\" class=\"dataframe\">\n",
       "  <thead>\n",
       "    <tr style=\"text-align: right;\">\n",
       "      <th></th>\n",
       "      <th>Order ID</th>\n",
       "      <th>Product ID</th>\n",
       "      <th>Qty</th>\n",
       "    </tr>\n",
       "  </thead>\n",
       "  <tbody>\n",
       "    <tr>\n",
       "      <th>0</th>\n",
       "      <td>CA-2014-100006</td>\n",
       "      <td>TEC-PH-10002075</td>\n",
       "      <td>3</td>\n",
       "    </tr>\n",
       "    <tr>\n",
       "      <th>1</th>\n",
       "      <td>CA-2014-100090</td>\n",
       "      <td>FUR-TA-10003715</td>\n",
       "      <td>3</td>\n",
       "    </tr>\n",
       "    <tr>\n",
       "      <th>2</th>\n",
       "      <td>CA-2014-100090</td>\n",
       "      <td>OFF-BI-10001597</td>\n",
       "      <td>6</td>\n",
       "    </tr>\n",
       "    <tr>\n",
       "      <th>3</th>\n",
       "      <td>CA-2014-100293</td>\n",
       "      <td>OFF-PA-10000176</td>\n",
       "      <td>6</td>\n",
       "    </tr>\n",
       "    <tr>\n",
       "      <th>4</th>\n",
       "      <td>CA-2014-100328</td>\n",
       "      <td>OFF-BI-10000343</td>\n",
       "      <td>1</td>\n",
       "    </tr>\n",
       "    <tr>\n",
       "      <th>...</th>\n",
       "      <td>...</td>\n",
       "      <td>...</td>\n",
       "      <td>...</td>\n",
       "    </tr>\n",
       "    <tr>\n",
       "      <th>9473</th>\n",
       "      <td>US-2017-169551</td>\n",
       "      <td>OFF-PA-10004100</td>\n",
       "      <td>3</td>\n",
       "    </tr>\n",
       "    <tr>\n",
       "      <th>9474</th>\n",
       "      <td>US-2017-169551</td>\n",
       "      <td>OFF-ST-10004835</td>\n",
       "      <td>3</td>\n",
       "    </tr>\n",
       "    <tr>\n",
       "      <th>9475</th>\n",
       "      <td>US-2017-169551</td>\n",
       "      <td>TEC-AC-10002018</td>\n",
       "      <td>3</td>\n",
       "    </tr>\n",
       "    <tr>\n",
       "      <th>9476</th>\n",
       "      <td>US-2017-169551</td>\n",
       "      <td>TEC-AC-10003033</td>\n",
       "      <td>2</td>\n",
       "    </tr>\n",
       "    <tr>\n",
       "      <th>9477</th>\n",
       "      <td>US-2017-169551</td>\n",
       "      <td>TEC-PH-10001363</td>\n",
       "      <td>2</td>\n",
       "    </tr>\n",
       "  </tbody>\n",
       "</table>\n",
       "<p>9478 rows × 3 columns</p>\n",
       "</div>"
      ],
      "text/plain": [
       "            Order ID       Product ID  Qty\n",
       "0     CA-2014-100006  TEC-PH-10002075    3\n",
       "1     CA-2014-100090  FUR-TA-10003715    3\n",
       "2     CA-2014-100090  OFF-BI-10001597    6\n",
       "3     CA-2014-100293  OFF-PA-10000176    6\n",
       "4     CA-2014-100328  OFF-BI-10000343    1\n",
       "...              ...              ...  ...\n",
       "9473  US-2017-169551  OFF-PA-10004100    3\n",
       "9474  US-2017-169551  OFF-ST-10004835    3\n",
       "9475  US-2017-169551  TEC-AC-10002018    3\n",
       "9476  US-2017-169551  TEC-AC-10003033    2\n",
       "9477  US-2017-169551  TEC-PH-10001363    2\n",
       "\n",
       "[9478 rows x 3 columns]"
      ]
     },
     "execution_count": 5,
     "metadata": {},
     "output_type": "execute_result"
    }
   ],
   "source": [
    "df1"
   ]
  },
  {
   "cell_type": "code",
   "execution_count": 6,
   "id": "87c6f2f4",
   "metadata": {},
   "outputs": [
    {
     "data": {
      "text/html": [
       "<div>\n",
       "<style scoped>\n",
       "    .dataframe tbody tr th:only-of-type {\n",
       "        vertical-align: middle;\n",
       "    }\n",
       "\n",
       "    .dataframe tbody tr th {\n",
       "        vertical-align: top;\n",
       "    }\n",
       "\n",
       "    .dataframe thead th {\n",
       "        text-align: right;\n",
       "    }\n",
       "</style>\n",
       "<table border=\"1\" class=\"dataframe\">\n",
       "  <thead>\n",
       "    <tr style=\"text-align: right;\">\n",
       "      <th></th>\n",
       "      <th>Order ID</th>\n",
       "      <th>Product ID</th>\n",
       "      <th>Qty</th>\n",
       "    </tr>\n",
       "  </thead>\n",
       "  <tbody>\n",
       "    <tr>\n",
       "      <th>0</th>\n",
       "      <td>CA-2014-100090</td>\n",
       "      <td>FUR-TA-10003715</td>\n",
       "      <td>3</td>\n",
       "    </tr>\n",
       "    <tr>\n",
       "      <th>1</th>\n",
       "      <td>CA-2014-100090</td>\n",
       "      <td>OFF-BI-10001597</td>\n",
       "      <td>6</td>\n",
       "    </tr>\n",
       "    <tr>\n",
       "      <th>2</th>\n",
       "      <td>CA-2014-100293</td>\n",
       "      <td>OFF-PA-10000176</td>\n",
       "      <td>6</td>\n",
       "    </tr>\n",
       "    <tr>\n",
       "      <th>3</th>\n",
       "      <td>CA-2014-100328</td>\n",
       "      <td>OFF-BI-10000343</td>\n",
       "      <td>1</td>\n",
       "    </tr>\n",
       "    <tr>\n",
       "      <th>4</th>\n",
       "      <td>CA-2014-100363</td>\n",
       "      <td>OFF-FA-10000611</td>\n",
       "      <td>2</td>\n",
       "    </tr>\n",
       "    <tr>\n",
       "      <th>...</th>\n",
       "      <td>...</td>\n",
       "      <td>...</td>\n",
       "      <td>...</td>\n",
       "    </tr>\n",
       "    <tr>\n",
       "      <th>9474</th>\n",
       "      <td>US-2017-169551</td>\n",
       "      <td>OFF-PA-10004100</td>\n",
       "      <td>3</td>\n",
       "    </tr>\n",
       "    <tr>\n",
       "      <th>9475</th>\n",
       "      <td>US-2017-169551</td>\n",
       "      <td>OFF-ST-10004835</td>\n",
       "      <td>3</td>\n",
       "    </tr>\n",
       "    <tr>\n",
       "      <th>9476</th>\n",
       "      <td>US-2017-169551</td>\n",
       "      <td>TEC-AC-10002018</td>\n",
       "      <td>3</td>\n",
       "    </tr>\n",
       "    <tr>\n",
       "      <th>9477</th>\n",
       "      <td>US-2017-169551</td>\n",
       "      <td>TEC-AC-10003033</td>\n",
       "      <td>2</td>\n",
       "    </tr>\n",
       "    <tr>\n",
       "      <th>9478</th>\n",
       "      <td>US-2017-169551</td>\n",
       "      <td>TEC-PH-10001363</td>\n",
       "      <td>2</td>\n",
       "    </tr>\n",
       "  </tbody>\n",
       "</table>\n",
       "<p>9479 rows × 3 columns</p>\n",
       "</div>"
      ],
      "text/plain": [
       "            Order ID       Product ID  Qty\n",
       "0     CA-2014-100090  FUR-TA-10003715    3\n",
       "1     CA-2014-100090  OFF-BI-10001597    6\n",
       "2     CA-2014-100293  OFF-PA-10000176    6\n",
       "3     CA-2014-100328  OFF-BI-10000343    1\n",
       "4     CA-2014-100363  OFF-FA-10000611    2\n",
       "...              ...              ...  ...\n",
       "9474  US-2017-169551  OFF-PA-10004100    3\n",
       "9475  US-2017-169551  OFF-ST-10004835    3\n",
       "9476  US-2017-169551  TEC-AC-10002018    3\n",
       "9477  US-2017-169551  TEC-AC-10003033    2\n",
       "9478  US-2017-169551  TEC-PH-10001363    2\n",
       "\n",
       "[9479 rows x 3 columns]"
      ]
     },
     "execution_count": 6,
     "metadata": {},
     "output_type": "execute_result"
    }
   ],
   "source": [
    "df2=pd.read_csv('Data2.csv')\n",
    "df2"
   ]
  },
  {
   "cell_type": "code",
   "execution_count": 7,
   "id": "bbc843d9",
   "metadata": {},
   "outputs": [],
   "source": [
    "df1.rename(columns={'Order ID': 'Order_ID', 'Product ID': 'Product_ID'}, inplace=True)\n",
    "df2.rename(columns={'Order ID': 'Order_ID', 'Product ID': 'Product_ID'}, inplace=True)"
   ]
  },
  {
   "cell_type": "code",
   "execution_count": 8,
   "id": "bc3bfd23",
   "metadata": {},
   "outputs": [],
   "source": [
    "cols = ['Order_ID','Product_ID']\n",
    "df1['NewPK'] = df1[cols].apply(lambda row: '_'.join(row.values.astype(str)), axis=1)\n",
    "df2['NewPK'] = df2[cols].apply(lambda row: '_'.join(row.values.astype(str)), axis=1)"
   ]
  },
  {
   "cell_type": "code",
   "execution_count": 9,
   "id": "a88923d2",
   "metadata": {},
   "outputs": [
    {
     "data": {
      "text/html": [
       "<div>\n",
       "<style scoped>\n",
       "    .dataframe tbody tr th:only-of-type {\n",
       "        vertical-align: middle;\n",
       "    }\n",
       "\n",
       "    .dataframe tbody tr th {\n",
       "        vertical-align: top;\n",
       "    }\n",
       "\n",
       "    .dataframe thead th {\n",
       "        text-align: right;\n",
       "    }\n",
       "</style>\n",
       "<table border=\"1\" class=\"dataframe\">\n",
       "  <thead>\n",
       "    <tr style=\"text-align: right;\">\n",
       "      <th></th>\n",
       "      <th>Order_ID</th>\n",
       "      <th>Product_ID</th>\n",
       "      <th>Qty</th>\n",
       "      <th>NewPK</th>\n",
       "    </tr>\n",
       "  </thead>\n",
       "  <tbody>\n",
       "    <tr>\n",
       "      <th>0</th>\n",
       "      <td>CA-2014-100006</td>\n",
       "      <td>TEC-PH-10002075</td>\n",
       "      <td>3</td>\n",
       "      <td>CA-2014-100006_TEC-PH-10002075</td>\n",
       "    </tr>\n",
       "    <tr>\n",
       "      <th>1</th>\n",
       "      <td>CA-2014-100090</td>\n",
       "      <td>FUR-TA-10003715</td>\n",
       "      <td>3</td>\n",
       "      <td>CA-2014-100090_FUR-TA-10003715</td>\n",
       "    </tr>\n",
       "    <tr>\n",
       "      <th>2</th>\n",
       "      <td>CA-2014-100090</td>\n",
       "      <td>OFF-BI-10001597</td>\n",
       "      <td>6</td>\n",
       "      <td>CA-2014-100090_OFF-BI-10001597</td>\n",
       "    </tr>\n",
       "    <tr>\n",
       "      <th>3</th>\n",
       "      <td>CA-2014-100293</td>\n",
       "      <td>OFF-PA-10000176</td>\n",
       "      <td>6</td>\n",
       "      <td>CA-2014-100293_OFF-PA-10000176</td>\n",
       "    </tr>\n",
       "    <tr>\n",
       "      <th>4</th>\n",
       "      <td>CA-2014-100328</td>\n",
       "      <td>OFF-BI-10000343</td>\n",
       "      <td>1</td>\n",
       "      <td>CA-2014-100328_OFF-BI-10000343</td>\n",
       "    </tr>\n",
       "  </tbody>\n",
       "</table>\n",
       "</div>"
      ],
      "text/plain": [
       "         Order_ID       Product_ID  Qty                           NewPK\n",
       "0  CA-2014-100006  TEC-PH-10002075    3  CA-2014-100006_TEC-PH-10002075\n",
       "1  CA-2014-100090  FUR-TA-10003715    3  CA-2014-100090_FUR-TA-10003715\n",
       "2  CA-2014-100090  OFF-BI-10001597    6  CA-2014-100090_OFF-BI-10001597\n",
       "3  CA-2014-100293  OFF-PA-10000176    6  CA-2014-100293_OFF-PA-10000176\n",
       "4  CA-2014-100328  OFF-BI-10000343    1  CA-2014-100328_OFF-BI-10000343"
      ]
     },
     "execution_count": 9,
     "metadata": {},
     "output_type": "execute_result"
    }
   ],
   "source": [
    "df1.head()"
   ]
  },
  {
   "cell_type": "code",
   "execution_count": 10,
   "id": "e65a215c",
   "metadata": {},
   "outputs": [
    {
     "data": {
      "text/html": [
       "<div>\n",
       "<style scoped>\n",
       "    .dataframe tbody tr th:only-of-type {\n",
       "        vertical-align: middle;\n",
       "    }\n",
       "\n",
       "    .dataframe tbody tr th {\n",
       "        vertical-align: top;\n",
       "    }\n",
       "\n",
       "    .dataframe thead th {\n",
       "        text-align: right;\n",
       "    }\n",
       "</style>\n",
       "<table border=\"1\" class=\"dataframe\">\n",
       "  <thead>\n",
       "    <tr style=\"text-align: right;\">\n",
       "      <th></th>\n",
       "      <th>Order_ID</th>\n",
       "      <th>Product_ID</th>\n",
       "      <th>Qty</th>\n",
       "      <th>NewPK</th>\n",
       "    </tr>\n",
       "  </thead>\n",
       "  <tbody>\n",
       "    <tr>\n",
       "      <th>0</th>\n",
       "      <td>CA-2014-100090</td>\n",
       "      <td>FUR-TA-10003715</td>\n",
       "      <td>3</td>\n",
       "      <td>CA-2014-100090_FUR-TA-10003715</td>\n",
       "    </tr>\n",
       "    <tr>\n",
       "      <th>1</th>\n",
       "      <td>CA-2014-100090</td>\n",
       "      <td>OFF-BI-10001597</td>\n",
       "      <td>6</td>\n",
       "      <td>CA-2014-100090_OFF-BI-10001597</td>\n",
       "    </tr>\n",
       "    <tr>\n",
       "      <th>2</th>\n",
       "      <td>CA-2014-100293</td>\n",
       "      <td>OFF-PA-10000176</td>\n",
       "      <td>6</td>\n",
       "      <td>CA-2014-100293_OFF-PA-10000176</td>\n",
       "    </tr>\n",
       "    <tr>\n",
       "      <th>3</th>\n",
       "      <td>CA-2014-100328</td>\n",
       "      <td>OFF-BI-10000343</td>\n",
       "      <td>1</td>\n",
       "      <td>CA-2014-100328_OFF-BI-10000343</td>\n",
       "    </tr>\n",
       "    <tr>\n",
       "      <th>4</th>\n",
       "      <td>CA-2014-100363</td>\n",
       "      <td>OFF-FA-10000611</td>\n",
       "      <td>2</td>\n",
       "      <td>CA-2014-100363_OFF-FA-10000611</td>\n",
       "    </tr>\n",
       "  </tbody>\n",
       "</table>\n",
       "</div>"
      ],
      "text/plain": [
       "         Order_ID       Product_ID  Qty                           NewPK\n",
       "0  CA-2014-100090  FUR-TA-10003715    3  CA-2014-100090_FUR-TA-10003715\n",
       "1  CA-2014-100090  OFF-BI-10001597    6  CA-2014-100090_OFF-BI-10001597\n",
       "2  CA-2014-100293  OFF-PA-10000176    6  CA-2014-100293_OFF-PA-10000176\n",
       "3  CA-2014-100328  OFF-BI-10000343    1  CA-2014-100328_OFF-BI-10000343\n",
       "4  CA-2014-100363  OFF-FA-10000611    2  CA-2014-100363_OFF-FA-10000611"
      ]
     },
     "execution_count": 10,
     "metadata": {},
     "output_type": "execute_result"
    }
   ],
   "source": [
    "df2.head()"
   ]
  },
  {
   "cell_type": "code",
   "execution_count": 11,
   "id": "dd7dc610",
   "metadata": {},
   "outputs": [],
   "source": [
    "#Q1\n",
    "x = df1[df1.NewPK.isin(df2.NewPK) == False]"
   ]
  },
  {
   "cell_type": "code",
   "execution_count": 12,
   "id": "db3370dd",
   "metadata": {},
   "outputs": [
    {
     "name": "stdout",
     "output_type": "stream",
     "text": [
      "            Order_ID       Product_ID  Qty                           NewPK\n",
      "0     CA-2014-100006  TEC-PH-10002075    3  CA-2014-100006_TEC-PH-10002075\n",
      "10    CA-2014-100678  OFF-EN-10000056    3  CA-2014-100678_OFF-EN-10000056\n",
      "19    CA-2014-100895  OFF-AR-10004511    2  CA-2014-100895_OFF-AR-10004511\n",
      "35    CA-2014-101560  OFF-BI-10000309    3  CA-2014-101560_OFF-BI-10000309\n",
      "61    CA-2014-102673  OFF-LA-10001771   12  CA-2014-102673_OFF-LA-10001771\n",
      "...              ...              ...  ...                             ...\n",
      "9390  US-2017-160836  OFF-AP-10001626    2  US-2017-160836_OFF-AP-10001626\n",
      "9403  US-2017-162558  FUR-FU-10002364    2  US-2017-162558_FUR-FU-10002364\n",
      "9420  US-2017-163657  OFF-BI-10000138    5  US-2017-163657_OFF-BI-10000138\n",
      "9427  US-2017-164056  FUR-TA-10001307    5  US-2017-164056_FUR-TA-10001307\n",
      "9435  US-2017-165456  FUR-CH-10003981    6  US-2017-165456_FUR-CH-10003981\n",
      "\n",
      "[507 rows x 4 columns]\n"
     ]
    }
   ],
   "source": [
    "print(x)"
   ]
  },
  {
   "cell_type": "code",
   "execution_count": 13,
   "id": "bd2b4042",
   "metadata": {},
   "outputs": [
    {
     "name": "stdout",
     "output_type": "stream",
     "text": [
      "507\n"
     ]
    }
   ],
   "source": [
    "print(x.shape[0])"
   ]
  },
  {
   "cell_type": "code",
   "execution_count": 14,
   "id": "a0535ff4",
   "metadata": {},
   "outputs": [],
   "source": [
    "#Q2\n",
    "y = df2[df2.NewPK.isin(df1.NewPK) == False]"
   ]
  },
  {
   "cell_type": "code",
   "execution_count": 15,
   "id": "656d158d",
   "metadata": {},
   "outputs": [
    {
     "name": "stdout",
     "output_type": "stream",
     "text": [
      "            Order_ID       Product_ID  Qty                           NewPK\n",
      "11    CA-2014-100706  TEC-AC-10001314    2  CA-2014-100706_TEC-AC-10001314\n",
      "14    CA-2014-100762  OFF-PA-10001815    3  CA-2014-100762_OFF-PA-10001815\n",
      "30    CA-2014-101427  OFF-AR-10002257    3  CA-2014-101427_OFF-AR-10002257\n",
      "56    CA-2014-102652  FUR-FU-10001918    7  CA-2014-102652_FUR-FU-10001918\n",
      "63    CA-2014-102869  OFF-PA-10000788    3  CA-2014-102869_OFF-PA-10000788\n",
      "...              ...              ...  ...                             ...\n",
      "9428  US-2017-165344  OFF-BI-10003196   10  US-2017-165344_OFF-BI-10003196\n",
      "9433  US-2017-165358  TEC-CO-10001943    5  US-2017-165358_TEC-CO-10001943\n",
      "9455  US-2017-167920  OFF-AP-10000159    5  US-2017-167920_OFF-AP-10000159\n",
      "9471  US-2017-169502  OFF-AP-10001947    5  US-2017-169502_OFF-AP-10001947\n",
      "9473  US-2017-169551  FUR-BO-10001519    3  US-2017-169551_FUR-BO-10001519\n",
      "\n",
      "[508 rows x 4 columns]\n"
     ]
    }
   ],
   "source": [
    "print(y)"
   ]
  },
  {
   "cell_type": "code",
   "execution_count": 16,
   "id": "a7e813be",
   "metadata": {},
   "outputs": [
    {
     "name": "stdout",
     "output_type": "stream",
     "text": [
      "508\n"
     ]
    }
   ],
   "source": [
    "print(y.shape[0])"
   ]
  },
  {
   "cell_type": "code",
   "execution_count": 17,
   "id": "abc62de3",
   "metadata": {},
   "outputs": [
    {
     "name": "stdout",
     "output_type": "stream",
     "text": [
      "1956\n"
     ]
    }
   ],
   "source": [
    "#Q3\n",
    "print(y['Qty'].sum())"
   ]
  },
  {
   "cell_type": "code",
   "execution_count": 18,
   "id": "0985f60b",
   "metadata": {},
   "outputs": [],
   "source": [
    "#Q4"
   ]
  },
  {
   "cell_type": "code",
   "execution_count": 20,
   "id": "9c38d4f3",
   "metadata": {},
   "outputs": [],
   "source": [
    "combined_xy = pd.concat([x, y])"
   ]
  },
  {
   "cell_type": "code",
   "execution_count": 21,
   "id": "3b16ada9",
   "metadata": {},
   "outputs": [
    {
     "name": "stdout",
     "output_type": "stream",
     "text": [
      "            Order_ID       Product_ID  Qty                           NewPK\n",
      "0     CA-2014-100006  TEC-PH-10002075    3  CA-2014-100006_TEC-PH-10002075\n",
      "10    CA-2014-100678  OFF-EN-10000056    3  CA-2014-100678_OFF-EN-10000056\n",
      "19    CA-2014-100895  OFF-AR-10004511    2  CA-2014-100895_OFF-AR-10004511\n",
      "35    CA-2014-101560  OFF-BI-10000309    3  CA-2014-101560_OFF-BI-10000309\n",
      "61    CA-2014-102673  OFF-LA-10001771   12  CA-2014-102673_OFF-LA-10001771\n",
      "...              ...              ...  ...                             ...\n",
      "9428  US-2017-165344  OFF-BI-10003196   10  US-2017-165344_OFF-BI-10003196\n",
      "9433  US-2017-165358  TEC-CO-10001943    5  US-2017-165358_TEC-CO-10001943\n",
      "9455  US-2017-167920  OFF-AP-10000159    5  US-2017-167920_OFF-AP-10000159\n",
      "9471  US-2017-169502  OFF-AP-10001947    5  US-2017-169502_OFF-AP-10001947\n",
      "9473  US-2017-169551  FUR-BO-10001519    3  US-2017-169551_FUR-BO-10001519\n",
      "\n",
      "[1015 rows x 4 columns]\n"
     ]
    }
   ],
   "source": [
    "print(combined_xy)"
   ]
  },
  {
   "cell_type": "code",
   "execution_count": 22,
   "id": "0aa360fb",
   "metadata": {},
   "outputs": [],
   "source": [
    "merged_df = df1.merge(df2)"
   ]
  },
  {
   "cell_type": "code",
   "execution_count": 23,
   "id": "aaa06b1f",
   "metadata": {},
   "outputs": [
    {
     "name": "stdout",
     "output_type": "stream",
     "text": [
      "            Order_ID       Product_ID  Qty                           NewPK\n",
      "0     CA-2014-100090  FUR-TA-10003715    3  CA-2014-100090_FUR-TA-10003715\n",
      "1     CA-2014-100090  OFF-BI-10001597    6  CA-2014-100090_OFF-BI-10001597\n",
      "2     CA-2014-100293  OFF-PA-10000176    6  CA-2014-100293_OFF-PA-10000176\n",
      "3     CA-2014-100328  OFF-BI-10000343    1  CA-2014-100328_OFF-BI-10000343\n",
      "4     CA-2014-100363  OFF-FA-10000611    2  CA-2014-100363_OFF-FA-10000611\n",
      "...              ...              ...  ...                             ...\n",
      "8966  US-2017-169551  OFF-PA-10004100    3  US-2017-169551_OFF-PA-10004100\n",
      "8967  US-2017-169551  OFF-ST-10004835    3  US-2017-169551_OFF-ST-10004835\n",
      "8968  US-2017-169551  TEC-AC-10002018    3  US-2017-169551_TEC-AC-10002018\n",
      "8969  US-2017-169551  TEC-AC-10003033    2  US-2017-169551_TEC-AC-10003033\n",
      "8970  US-2017-169551  TEC-PH-10001363    2  US-2017-169551_TEC-PH-10001363\n",
      "\n",
      "[8971 rows x 4 columns]\n"
     ]
    }
   ],
   "source": [
    "print(merged_df)"
   ]
  },
  {
   "cell_type": "code",
   "execution_count": 24,
   "id": "c6feeaec",
   "metadata": {},
   "outputs": [],
   "source": [
    "uniq_df = pd.concat([merged_df, combined_xy])"
   ]
  },
  {
   "cell_type": "code",
   "execution_count": 25,
   "id": "90d5ee59",
   "metadata": {},
   "outputs": [
    {
     "name": "stdout",
     "output_type": "stream",
     "text": [
      "            Order_ID       Product_ID  Qty                           NewPK\n",
      "0     CA-2014-100090  FUR-TA-10003715    3  CA-2014-100090_FUR-TA-10003715\n",
      "1     CA-2014-100090  OFF-BI-10001597    6  CA-2014-100090_OFF-BI-10001597\n",
      "2     CA-2014-100293  OFF-PA-10000176    6  CA-2014-100293_OFF-PA-10000176\n",
      "3     CA-2014-100328  OFF-BI-10000343    1  CA-2014-100328_OFF-BI-10000343\n",
      "4     CA-2014-100363  OFF-FA-10000611    2  CA-2014-100363_OFF-FA-10000611\n",
      "...              ...              ...  ...                             ...\n",
      "9428  US-2017-165344  OFF-BI-10003196   10  US-2017-165344_OFF-BI-10003196\n",
      "9433  US-2017-165358  TEC-CO-10001943    5  US-2017-165358_TEC-CO-10001943\n",
      "9455  US-2017-167920  OFF-AP-10000159    5  US-2017-167920_OFF-AP-10000159\n",
      "9471  US-2017-169502  OFF-AP-10001947    5  US-2017-169502_OFF-AP-10001947\n",
      "9473  US-2017-169551  FUR-BO-10001519    3  US-2017-169551_FUR-BO-10001519\n",
      "\n",
      "[9986 rows x 4 columns]\n"
     ]
    }
   ],
   "source": [
    "print(uniq_df)"
   ]
  },
  {
   "cell_type": "code",
   "execution_count": 26,
   "id": "bafcef18",
   "metadata": {},
   "outputs": [
    {
     "name": "stdout",
     "output_type": "stream",
     "text": [
      "9986\n"
     ]
    }
   ],
   "source": [
    "print(uniq_df.shape[0])"
   ]
  },
  {
   "cell_type": "code",
   "execution_count": null,
   "id": "309331b8",
   "metadata": {},
   "outputs": [],
   "source": []
  }
 ],
 "metadata": {
  "kernelspec": {
   "display_name": "Python 3 (ipykernel)",
   "language": "python",
   "name": "python3"
  },
  "language_info": {
   "codemirror_mode": {
    "name": "ipython",
    "version": 3
   },
   "file_extension": ".py",
   "mimetype": "text/x-python",
   "name": "python",
   "nbconvert_exporter": "python",
   "pygments_lexer": "ipython3",
   "version": "3.9.13"
  }
 },
 "nbformat": 4,
 "nbformat_minor": 5
}
